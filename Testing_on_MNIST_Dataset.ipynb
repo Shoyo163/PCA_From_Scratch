{
 "cells": [
  {
   "cell_type": "code",
   "execution_count": 2,
   "id": "39238512-8385-4957-9c1d-4da3bee74674",
   "metadata": {},
   "outputs": [],
   "source": [
    "import numpy as np\n",
    "import matplotlib.pyplot as plt\n",
    "from sklearn.datasets import fetch_openml\n",
    "\n",
    "class PCA:\n",
    "    def __init__(self, n_components):\n",
    "        self.n_components = n_components\n",
    "        self.components = None\n",
    "        self.mean = None\n",
    "        self.std_dev = None\n",
    "\n",
    "    def fit_transform(self, X):\n",
    "        #Step 1: standardize\n",
    "        self.mean = np.mean(X, axis=0)\n",
    "        self.std_dev = np.std(X, axis=0) + 1e-8\n",
    "        X_standardized = (X - self.mean) / self.std_dev\n",
    "\n",
    "        #Step 2: Covariance matrix\n",
    "        cov_matrix = np.cov(X_standardized, rowvar=False)\n",
    "\n",
    "        #Step 3: Eigen decomposition\n",
    "        eigenvalues, eigenvectors = np.linalg.eig(cov_matrix)\n",
    "\n",
    "        # Step 4: Sorting eigenvalues and corresponding eigenvectors\n",
    "        sorted_indices = np.argsort(eigenvalues)[::-1]\n",
    "        sorted_eigenvalues = eigenvalues[sorted_indices]\n",
    "        sorted_eigenvectors = eigenvectors[:, sorted_indices]\n",
    "        \n",
    "        #Select the top eigenvectors (principal components)\n",
    "        self.components = eigenvectors[:, :self.n_components]\n",
    "\n",
    "        #Step 5: Project data\n",
    "        X_reduced = X_standardized.dot(self.components)\n",
    "        return X_reduced\n",
    "        \n",
    "    def inverse_transform(self, X_reduced):\n",
    "        X_approx = np.dot(X_reduced, self.components.T)\n",
    "        return (X_approx * self.std_dev) + self.mean"
   ]
  },
  {
   "cell_type": "code",
   "execution_count": 3,
   "id": "d4a4f937-a8fe-40c8-a6ec-926edff982e6",
   "metadata": {},
   "outputs": [],
   "source": [
    "mnist = fetch_openml('mnist_784', version=1,parser='auto')\n",
    "X = mnist.data.to_numpy() / 255.0\n",
    "y = mnist.target\n",
    "X_subset = X[:1000]"
   ]
  },
  {
   "cell_type": "code",
   "execution_count": 4,
   "id": "eb987044-42e0-4312-9948-17e942b2b76d",
   "metadata": {},
   "outputs": [
    {
     "name": "stdout",
     "output_type": "stream",
     "text": [
      "Dimension:  (784,)\n"
     ]
    },
    {
     "data": {
      "text/plain": [
       "(-0.5, 27.5, 27.5, -0.5)"
      ]
     },
     "execution_count": 4,
     "metadata": {},
     "output_type": "execute_result"
    },
    {
     "data": {
      "image/png": "[encoded data removed]",
      "text/plain": [
       "<Figure size 600x200 with 1 Axes>"
      ]
     },
     "metadata": {},
     "output_type": "display_data"
    }
   ],
   "source": [
    "plt.figure(figsize=(6, 2))\n",
    "plt.imshow(X_subset[0].reshape(28, 28), cmap='gray')\n",
    "print(\"Dimension: \", X_subset[0].shape)\n",
    "plt.axis('off')"
   ]
  },
  {
   "cell_type": "code",
   "execution_count": 5,
   "id": "7fccd216-8288-4fe4-94e3-9901030b460d",
   "metadata": {},
   "outputs": [
    {
     "data": {
      "image/png": "[encoded data removed]",
      "text/plain": [
       "<Figure size 1000x400 with 10 Axes>"
      ]
     },
     "metadata": {},
     "output_type": "display_data"
    },
    {
     "name": "stdout",
     "output_type": "stream",
     "text": [
      "Original Dimension:  (784,)\n",
      "Reduced Dimension:  (50,)\n"
     ]
    }
   ],
   "source": [
    "pca = PCA(n_components=50)\n",
    "X_reduced = pca.fit_transform(X_subset)\n",
    "X_reconstructed = pca.inverse_transform(X_reduced)\n",
    "\n",
    "def plot_images(original, reconstructed, n_images=5):\n",
    "    plt.figure(figsize=(10, 4))\n",
    "    for i in range(n_images):\n",
    "        plt.subplot(2, n_images, i + 1)\n",
    "        plt.imshow(original[i].reshape(28, 28), cmap='gray')\n",
    "        plt.axis('off')\n",
    "        plt.subplot(2, n_images, i + 1 + n_images)\n",
    "        plt.imshow(reconstructed[i].reshape(28, 28), cmap='gray')\n",
    "        plt.axis('off')\n",
    "    plt.show()\n",
    "\n",
    "plot_images(X_subset, X_reconstructed)\n",
    "print(\"Original Dimension: \",X_subset[0].shape)\n",
    "print(\"Reduced Dimension: \",X_reduced[0].shape)"
   ]
  },
  {
   "cell_type": "code",
   "execution_count": null,
   "id": "55699a56-8d4d-4123-8576-5fc92ac7956f",
   "metadata": {},
   "outputs": [],
   "source": []
  }
 ],
 "metadata": {
  "kernelspec": {
   "display_name": "Python 3 (ipykernel)",
   "language": "python",
   "name": "python3"
  },
  "language_info": {
   "codemirror_mode": {
    "name": "ipython",
    "version": 3
   },
   "file_extension": ".py",
   "mimetype": "text/x-python",
   "name": "python",
   "nbconvert_exporter": "python",
   "pygments_lexer": "ipython3",
   "version": "3.11.7"
  }
 },
 "nbformat": 4,
 "nbformat_minor": 5
}
